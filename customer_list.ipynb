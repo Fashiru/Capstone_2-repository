{
 "cells": [
  {
   "cell_type": "code",
   "execution_count": 1,
   "id": "18402e9d-2647-4c09-93a4-ed81b2bf6ce5",
   "metadata": {},
   "outputs": [],
   "source": [
    "import pandas as pd\n",
    "import numpy as np\n"
   ]
  },
  {
   "cell_type": "code",
   "execution_count": null,
   "id": "abaa4da4-32c1-4f48-968d-5c980e13e769",
   "metadata": {},
   "outputs": [],
   "source": [
    "#input file path to be processed\n",
    "file_path = input('Enter the file path')"
   ]
  },
  {
   "cell_type": "code",
   "execution_count": null,
   "id": "a7cde062-1281-46d0-811a-fc63bdfdf589",
   "metadata": {},
   "outputs": [],
   "source": [
    "fd = pd.read_csv(\"customer_list_updated.csv\")"
   ]
  },
  {
   "cell_type": "code",
   "execution_count": null,
   "id": "63fb5070-718f-4eb8-aae7-15f7b0cfefb4",
   "metadata": {},
   "outputs": [],
   "source": [
    "fd"
   ]
  },
  {
   "cell_type": "code",
   "execution_count": null,
   "id": "3faf83c5-e12b-4739-9964-9adbf604f03b",
   "metadata": {},
   "outputs": [],
   "source": [
    "Used delimeter this to organize the data into a readable formmat."
   ]
  },
  {
   "cell_type": "code",
   "execution_count": null,
   "id": "d483171c-ec98-412d-8cf3-9dffbd6fde3c",
   "metadata": {},
   "outputs": [],
   "source": [
    "fd = pd.read_csv('customer_list_updated.csv', delimiter='|')\n",
    "fd.columns = ['Cust_id', 'Date', 'Time', 'Name', 'Email', 'Phone', 'Sms-opt-out']\n",
    "fd.head(10)"
   ]
  },
  {
   "cell_type": "code",
   "execution_count": null,
   "id": "e4c7a6ce-9c6b-4447-91d6-169bf9174b92",
   "metadata": {},
   "outputs": [],
   "source": [
    "\n",
    "fd = pd.read_csv('customer_list_updated.csv', delimiter='|')\n",
    "\n",
    "# Assign appropriate column names\n",
    "fd.columns = ['Cust_id', 'Date', 'Time', 'Name', 'Email', 'Phone', 'Sms-opt-out']\n",
    "\n",
    "# Reorganize columns from right-to-left\n",
    "fd = fd[fd.columns[::-1]]\n",
    "\n",
    "\n"
   ]
  },
  {
   "cell_type": "code",
   "execution_count": null,
   "id": "18b406b6-5a3f-44a1-bea1-318253cfc075",
   "metadata": {},
   "outputs": [],
   "source": [
    "fd.head(10)"
   ]
  },
  {
   "cell_type": "raw",
   "id": "a9db2704-4576-4039-9452-5c852f6c07b4",
   "metadata": {},
   "source": [
    "##Name cleanup. Using expressions to ensure names are cleaned, by removing special characters \n",
    "    except alphabets, numbers, spaces, colons, hyphens, periods, and @.\n",
    "    "
   ]
  },
  {
   "cell_type": "code",
   "execution_count": null,
   "id": "6f4ea19c-d534-419d-a17f-49c2e116c51e",
   "metadata": {},
   "outputs": [],
   "source": [
    "# Cell 2: Define the column cleansing function\n",
    "\n",
    "def name_clean(fd):\n",
    "  \n",
    "    for column in fd.select_dtypes(include=['object']).columns:\n",
    "        fd[column] = fd[column].apply(lambda x: re.sub(r'[^a-zA-Z0-9\\s\\:\\-\\.\\@]', '', str(x)))\n",
    "    return fd\n",
    "\n",
    "fd = name_clean(fd)\n",
    "fd"
   ]
  },
  {
   "cell_type": "code",
   "execution_count": null,
   "id": "aac295b8-88ec-4103-8be0-ee6f28ad3b78",
   "metadata": {},
   "outputs": [],
   "source": [
    "import re"
   ]
  },
  {
   "cell_type": "code",
   "execution_count": null,
   "id": "cb6f5e13-0a87-4cbf-8bea-4ac4fe68f9d5",
   "metadata": {},
   "outputs": [],
   "source": [
    "# re.sub to remove all non-digit characters (\\D) from the phone string\n",
    "# len(digit) Checks if the cleaned digits string has exactly 10 characters.\n",
    "# formats it into the standard NNN-NNN-NNNN format using an f-string.\n",
    "def format_phone_number(phone):\n",
    "    digits = re.sub(r'\\D', '', phone)\n",
    "    if len(digits) == 10:\n",
    "        return f\"{digits[:3]}-{digits[3:6]}-{digits[6:]}\"\n",
    "    return phone"
   ]
  },
  {
   "cell_type": "code",
   "execution_count": null,
   "id": "fbb6f49b-30e8-489e-beb3-e1f65abdfbba",
   "metadata": {},
   "outputs": [],
   "source": [
    "fd['Phone'] = fd['Phone'].apply(lambda x: format_phone_number(x) if pd.notnull(x) else x)"
   ]
  },
  {
   "cell_type": "code",
   "execution_count": null,
   "id": "4717a7b1-ff87-4548-aa5f-f033ea853747",
   "metadata": {},
   "outputs": [],
   "source": [
    "fd['Phone']"
   ]
  },
  {
   "cell_type": "raw",
   "id": "07ad28ee-02d4-4728-b8cb-c62e2454910f",
   "metadata": {},
   "source": [
    "## SMS Opt-out Handling, This column is most likely used to track whether a customer has opted out of receiving SMS notifications. It might have \"True\" for yes, \"False\" for no, or it could be empty for people who haven't chosen yet."
   ]
  },
  {
   "cell_type": "code",
   "execution_count": null,
   "id": "6adbfb5a-2178-42c9-a748-ee3956870ce9",
   "metadata": {},
   "outputs": [],
   "source": [
    "fd['Sms_opt_out'] = fd.get('Sms_opt_out', False)"
   ]
  },
  {
   "cell_type": "code",
   "execution_count": null,
   "id": "f0aa29e8-fd88-45a5-ac5c-66b6bb868b7f",
   "metadata": {},
   "outputs": [],
   "source": [
    "fd['Sms_opt_out'] "
   ]
  },
  {
   "cell_type": "raw",
   "id": "760e4118-6ce8-4e35-a1a8-5605a04a4606",
   "metadata": {},
   "source": [
    "## Saving the cleaned dataframe to a new csv file"
   ]
  },
  {
   "cell_type": "code",
   "execution_count": null,
   "id": "fc07538e-2b01-42af-9d13-0816fd715147",
   "metadata": {},
   "outputs": [],
   "source": [
    "fd.to_csv(\"cleaned_customer_data.csv\", index=False)"
   ]
  },
  {
   "cell_type": "code",
   "execution_count": null,
   "id": "7adcbe2e-2964-4042-92c8-2f5848e5b496",
   "metadata": {},
   "outputs": [],
   "source": []
  },
  {
   "cell_type": "code",
   "execution_count": null,
   "id": "db3ff816-ac74-4e18-b2d7-0a309d6c39c1",
   "metadata": {},
   "outputs": [],
   "source": []
  }
 ],
 "metadata": {
  "kernelspec": {
   "display_name": "Python 3 (ipykernel)",
   "language": "python",
   "name": "python3"
  },
  "language_info": {
   "codemirror_mode": {
    "name": "ipython",
    "version": 3
   },
   "file_extension": ".py",
   "mimetype": "text/x-python",
   "name": "python",
   "nbconvert_exporter": "python",
   "pygments_lexer": "ipython3",
   "version": "3.12.6"
  }
 },
 "nbformat": 4,
 "nbformat_minor": 5
}
