{
 "cells": [
  {
   "cell_type": "code",
   "execution_count": 3,
   "id": "18402e9d-2647-4c09-93a4-ed81b2bf6ce5",
   "metadata": {},
   "outputs": [],
   "source": [
    "import pandas as pd\n"
   ]
  },
  {
   "cell_type": "code",
   "execution_count": 7,
   "id": "a7cde062-1281-46d0-811a-fc63bdfdf589",
   "metadata": {},
   "outputs": [],
   "source": [
    "fd = pd.read_csv(\"customer_list_updated.csv\")"
   ]
  },
  {
   "cell_type": "code",
   "execution_count": 8,
   "id": "63fb5070-718f-4eb8-aae7-15f7b0cfefb4",
   "metadata": {},
   "outputs": [
    {
     "data": {
      "text/html": [
       "<div>\n",
       "<style scoped>\n",
       "    .dataframe tbody tr th:only-of-type {\n",
       "        vertical-align: middle;\n",
       "    }\n",
       "\n",
       "    .dataframe tbody tr th {\n",
       "        vertical-align: top;\n",
       "    }\n",
       "\n",
       "    .dataframe thead th {\n",
       "        text-align: right;\n",
       "    }\n",
       "</style>\n",
       "<table border=\"1\" class=\"dataframe\">\n",
       "  <thead>\n",
       "    <tr style=\"text-align: right;\">\n",
       "      <th></th>\n",
       "      <th>cust_id|date|time|name|email|phone|sms-opt-out</th>\n",
       "    </tr>\n",
       "  </thead>\n",
       "  <tbody>\n",
       "    <tr>\n",
       "      <th>0</th>\n",
       "      <td>1|2023-03-15|08:45:12|Rachel|rachel@centralper...</td>\n",
       "    </tr>\n",
       "    <tr>\n",
       "      <th>1</th>\n",
       "      <td>2|2023-05-22|12:30:45|R&amp;! Geller|rossg@central...</td>\n",
       "    </tr>\n",
       "    <tr>\n",
       "      <th>2</th>\n",
       "      <td>3|2023-07-09|18:15:27|Monica Geller|chefmonica...</td>\n",
       "    </tr>\n",
       "    <tr>\n",
       "      <th>3</th>\n",
       "      <td>4|2023-09-01|21:05:33|Chandler Bing|chandlerb@...</td>\n",
       "    </tr>\n",
       "    <tr>\n",
       "      <th>4</th>\n",
       "      <td>5|2023-11-18|14:22:10|Joey|howyoudoing@central...</td>\n",
       "    </tr>\n",
       "    <tr>\n",
       "      <th>...</th>\n",
       "      <td>...</td>\n",
       "    </tr>\n",
       "    <tr>\n",
       "      <th>516</th>\n",
       "      <td>517|2024-02-15|11:30:30|Perry the Platypus|age...</td>\n",
       "    </tr>\n",
       "    <tr>\n",
       "      <th>517</th>\n",
       "      <td>518|2024-05-01|15:55:45|Baljeet|baljeet@danvil...</td>\n",
       "    </tr>\n",
       "    <tr>\n",
       "      <th>518</th>\n",
       "      <td>519|2023-03-05|09:20:00|Buford|buford@danville...</td>\n",
       "    </tr>\n",
       "    <tr>\n",
       "      <th>519</th>\n",
       "      <td>520|2023-05-18|13:45:15|Vanessa D.^|vanessa@da...</td>\n",
       "    </tr>\n",
       "    <tr>\n",
       "      <th>520</th>\n",
       "      <td>521|2023-08-01|18:10:30|Linda Flynn-Fletcher|l...</td>\n",
       "    </tr>\n",
       "  </tbody>\n",
       "</table>\n",
       "<p>521 rows × 1 columns</p>\n",
       "</div>"
      ],
      "text/plain": [
       "       cust_id|date|time|name|email|phone|sms-opt-out \n",
       "0    1|2023-03-15|08:45:12|Rachel|rachel@centralper...\n",
       "1    2|2023-05-22|12:30:45|R&! Geller|rossg@central...\n",
       "2    3|2023-07-09|18:15:27|Monica Geller|chefmonica...\n",
       "3    4|2023-09-01|21:05:33|Chandler Bing|chandlerb@...\n",
       "4    5|2023-11-18|14:22:10|Joey|howyoudoing@central...\n",
       "..                                                 ...\n",
       "516  517|2024-02-15|11:30:30|Perry the Platypus|age...\n",
       "517  518|2024-05-01|15:55:45|Baljeet|baljeet@danvil...\n",
       "518  519|2023-03-05|09:20:00|Buford|buford@danville...\n",
       "519  520|2023-05-18|13:45:15|Vanessa D.^|vanessa@da...\n",
       "520  521|2023-08-01|18:10:30|Linda Flynn-Fletcher|l...\n",
       "\n",
       "[521 rows x 1 columns]"
      ]
     },
     "execution_count": 8,
     "metadata": {},
     "output_type": "execute_result"
    }
   ],
   "source": [
    "fd"
   ]
  },
  {
   "cell_type": "code",
   "execution_count": 15,
   "id": "d483171c-ec98-412d-8cf3-9dffbd6fde3c",
   "metadata": {},
   "outputs": [
    {
     "data": {
      "text/html": [
       "<div>\n",
       "<style scoped>\n",
       "    .dataframe tbody tr th:only-of-type {\n",
       "        vertical-align: middle;\n",
       "    }\n",
       "\n",
       "    .dataframe tbody tr th {\n",
       "        vertical-align: top;\n",
       "    }\n",
       "\n",
       "    .dataframe thead th {\n",
       "        text-align: right;\n",
       "    }\n",
       "</style>\n",
       "<table border=\"1\" class=\"dataframe\">\n",
       "  <thead>\n",
       "    <tr style=\"text-align: right;\">\n",
       "      <th></th>\n",
       "      <th>Cust_id</th>\n",
       "      <th>Date</th>\n",
       "      <th>Time</th>\n",
       "      <th>Name</th>\n",
       "      <th>Email</th>\n",
       "      <th>Phone</th>\n",
       "      <th>Sms-opt-out</th>\n",
       "    </tr>\n",
       "  </thead>\n",
       "  <tbody>\n",
       "    <tr>\n",
       "      <th>0</th>\n",
       "      <td>1</td>\n",
       "      <td>2023-03-15</td>\n",
       "      <td>08:45:12</td>\n",
       "      <td>Rachel</td>\n",
       "      <td>rachel@centralperk.coffee</td>\n",
       "      <td>212-555-1001</td>\n",
       "      <td>N</td>\n",
       "    </tr>\n",
       "    <tr>\n",
       "      <th>1</th>\n",
       "      <td>2</td>\n",
       "      <td>2023-05-22</td>\n",
       "      <td>12:30:45</td>\n",
       "      <td>R&amp;! Geller</td>\n",
       "      <td>rossg@centralperk.coffee</td>\n",
       "      <td>212-555-1002</td>\n",
       "      <td>N</td>\n",
       "    </tr>\n",
       "    <tr>\n",
       "      <th>2</th>\n",
       "      <td>3</td>\n",
       "      <td>2023-07-09</td>\n",
       "      <td>18:15:27</td>\n",
       "      <td>Monica Geller</td>\n",
       "      <td>chefmonica@centralperk.coffee</td>\n",
       "      <td>212-555-1003</td>\n",
       "      <td>N</td>\n",
       "    </tr>\n",
       "    <tr>\n",
       "      <th>3</th>\n",
       "      <td>4</td>\n",
       "      <td>2023-09-01</td>\n",
       "      <td>21:05:33</td>\n",
       "      <td>Chandler Bing</td>\n",
       "      <td>chandlerb@centralperk.coffee</td>\n",
       "      <td>212-555-1004</td>\n",
       "      <td>Y</td>\n",
       "    </tr>\n",
       "    <tr>\n",
       "      <th>4</th>\n",
       "      <td>5</td>\n",
       "      <td>2023-11-18</td>\n",
       "      <td>14:22:10</td>\n",
       "      <td>Joey</td>\n",
       "      <td>howyoudoing@centralperk.coffee</td>\n",
       "      <td>212-555-1005</td>\n",
       "      <td>N</td>\n",
       "    </tr>\n",
       "    <tr>\n",
       "      <th>...</th>\n",
       "      <td>...</td>\n",
       "      <td>...</td>\n",
       "      <td>...</td>\n",
       "      <td>...</td>\n",
       "      <td>...</td>\n",
       "      <td>...</td>\n",
       "      <td>...</td>\n",
       "    </tr>\n",
       "    <tr>\n",
       "      <th>516</th>\n",
       "      <td>517</td>\n",
       "      <td>2024-02-15</td>\n",
       "      <td>11:30:30</td>\n",
       "      <td>Perry the Platypus</td>\n",
       "      <td>agentp@danvillekids.com</td>\n",
       "      <td>555-555-3206</td>\n",
       "      <td>N</td>\n",
       "    </tr>\n",
       "    <tr>\n",
       "      <th>517</th>\n",
       "      <td>518</td>\n",
       "      <td>2024-05-01</td>\n",
       "      <td>15:55:45</td>\n",
       "      <td>Baljeet</td>\n",
       "      <td>baljeet@danvillekids.com</td>\n",
       "      <td>555-555-3207</td>\n",
       "      <td>N</td>\n",
       "    </tr>\n",
       "    <tr>\n",
       "      <th>518</th>\n",
       "      <td>519</td>\n",
       "      <td>2023-03-05</td>\n",
       "      <td>09:20:00</td>\n",
       "      <td>Buford</td>\n",
       "      <td>buford@danvillekids.com</td>\n",
       "      <td>555-555-3208</td>\n",
       "      <td>N</td>\n",
       "    </tr>\n",
       "    <tr>\n",
       "      <th>519</th>\n",
       "      <td>520</td>\n",
       "      <td>2023-05-18</td>\n",
       "      <td>13:45:15</td>\n",
       "      <td>Vanessa D.^</td>\n",
       "      <td>vanessa@danvillekids.com</td>\n",
       "      <td>555-555-3209</td>\n",
       "      <td>N</td>\n",
       "    </tr>\n",
       "    <tr>\n",
       "      <th>520</th>\n",
       "      <td>521</td>\n",
       "      <td>2023-08-01</td>\n",
       "      <td>18:10:30</td>\n",
       "      <td>Linda Flynn-Fletcher</td>\n",
       "      <td>linda@danvillekids.com</td>\n",
       "      <td>555-555-3210</td>\n",
       "      <td>N</td>\n",
       "    </tr>\n",
       "  </tbody>\n",
       "</table>\n",
       "<p>521 rows × 7 columns</p>\n",
       "</div>"
      ],
      "text/plain": [
       "     Cust_id        Date      Time                  Name  \\\n",
       "0          1  2023-03-15  08:45:12                Rachel   \n",
       "1          2  2023-05-22  12:30:45            R&! Geller   \n",
       "2          3  2023-07-09  18:15:27         Monica Geller   \n",
       "3          4  2023-09-01  21:05:33         Chandler Bing   \n",
       "4          5  2023-11-18  14:22:10                  Joey   \n",
       "..       ...         ...       ...                   ...   \n",
       "516      517  2024-02-15  11:30:30    Perry the Platypus   \n",
       "517      518  2024-05-01  15:55:45               Baljeet   \n",
       "518      519  2023-03-05  09:20:00                Buford   \n",
       "519      520  2023-05-18  13:45:15           Vanessa D.^   \n",
       "520      521  2023-08-01  18:10:30  Linda Flynn-Fletcher   \n",
       "\n",
       "                              Email         Phone Sms-opt-out  \n",
       "0         rachel@centralperk.coffee  212-555-1001           N  \n",
       "1          rossg@centralperk.coffee  212-555-1002           N  \n",
       "2     chefmonica@centralperk.coffee  212-555-1003           N  \n",
       "3      chandlerb@centralperk.coffee  212-555-1004           Y  \n",
       "4    howyoudoing@centralperk.coffee  212-555-1005           N  \n",
       "..                              ...           ...         ...  \n",
       "516         agentp@danvillekids.com  555-555-3206           N  \n",
       "517        baljeet@danvillekids.com  555-555-3207           N  \n",
       "518         buford@danvillekids.com  555-555-3208           N  \n",
       "519        vanessa@danvillekids.com  555-555-3209           N  \n",
       "520          linda@danvillekids.com  555-555-3210           N  \n",
       "\n",
       "[521 rows x 7 columns]"
      ]
     },
     "execution_count": 15,
     "metadata": {},
     "output_type": "execute_result"
    }
   ],
   "source": [
    "fd = pd.read_csv('customer_list_updated.csv', delimiter='|')\n",
    "fd.columns = ['Cust_id', 'Date', 'Time', 'Name', 'Email', 'Phone', 'Sms-opt-out']\n",
    "fd"
   ]
  },
  {
   "cell_type": "code",
   "execution_count": null,
   "id": "d1d1dc00-bb66-4ef6-a915-35f48cbc0942",
   "metadata": {},
   "outputs": [],
   "source": [
    "##Name cleanup. Using expressions to ensure names contain only letters, hyphen, and periods."
   ]
  },
  {
   "cell_type": "code",
   "execution_count": 17,
   "id": "1c82eedc-ac0a-43d2-8d60-1ced85eaac5e",
   "metadata": {},
   "outputs": [],
   "source": [
    "fd['Name'] = fd['Name'].astype(str).str.replace(r'[^A-Za-z\\-\\.\\s]', '', regex=True)"
   ]
  },
  {
   "cell_type": "code",
   "execution_count": 19,
   "id": "030fff98-1e7c-4854-92f9-6cc862431ec8",
   "metadata": {},
   "outputs": [
    {
     "data": {
      "text/plain": [
       "0                    Rachel\n",
       "1                  R Geller\n",
       "2             Monica Geller\n",
       "3             Chandler Bing\n",
       "4                      Joey\n",
       "               ...         \n",
       "516      Perry the Platypus\n",
       "517                 Baljeet\n",
       "518                  Buford\n",
       "519              Vanessa D.\n",
       "520    Linda Flynn-Fletcher\n",
       "Name: Name, Length: 521, dtype: object"
      ]
     },
     "execution_count": 19,
     "metadata": {},
     "output_type": "execute_result"
    }
   ],
   "source": [
    "fd['Name']"
   ]
  },
  {
   "cell_type": "code",
   "execution_count": null,
   "id": "d2f88ca3-dcb8-4020-b004-12de8142b449",
   "metadata": {},
   "outputs": [],
   "source": [
    "##Standardize phone number to NNN-NNN-NNNN format"
   ]
  },
  {
   "cell_type": "code",
   "execution_count": 26,
   "id": "aac295b8-88ec-4103-8be0-ee6f28ad3b78",
   "metadata": {},
   "outputs": [],
   "source": [
    "import re"
   ]
  },
  {
   "cell_type": "code",
   "execution_count": 29,
   "id": "cb6f5e13-0a87-4cbf-8bea-4ac4fe68f9d5",
   "metadata": {},
   "outputs": [],
   "source": [
    "def format_phone_number(phone):\n",
    "    digits = re.sub(r'\\D', '', phone)\n",
    "    if len(digits) == 10:\n",
    "        return f\"{digits[:3]}-{digits[3:6]}-{digits[6:]}\"\n",
    "    return phone"
   ]
  },
  {
   "cell_type": "code",
   "execution_count": 31,
   "id": "fbb6f49b-30e8-489e-beb3-e1f65abdfbba",
   "metadata": {},
   "outputs": [],
   "source": [
    "fd['Phone'] = fd['Phone'].apply(lambda x: format_phone_number(x) if pd.notnull(x) else x)"
   ]
  },
  {
   "cell_type": "code",
   "execution_count": 32,
   "id": "4717a7b1-ff87-4548-aa5f-f033ea853747",
   "metadata": {},
   "outputs": [
    {
     "data": {
      "text/plain": [
       "0      212-555-1001\n",
       "1      212-555-1002\n",
       "2      212-555-1003\n",
       "3      212-555-1004\n",
       "4      212-555-1005\n",
       "           ...     \n",
       "516    555-555-3206\n",
       "517    555-555-3207\n",
       "518    555-555-3208\n",
       "519    555-555-3209\n",
       "520    555-555-3210\n",
       "Name: Phone, Length: 521, dtype: object"
      ]
     },
     "execution_count": 32,
     "metadata": {},
     "output_type": "execute_result"
    }
   ],
   "source": [
    "fd['Phone']"
   ]
  },
  {
   "cell_type": "code",
   "execution_count": null,
   "id": "6d8063e0-f21c-4ef4-a5e2-f8d24fd4ffce",
   "metadata": {},
   "outputs": [],
   "source": [
    "## SMS Opt-out Handling, fill in blanks with false"
   ]
  },
  {
   "cell_type": "code",
   "execution_count": 36,
   "id": "6adbfb5a-2178-42c9-a748-ee3956870ce9",
   "metadata": {},
   "outputs": [],
   "source": [
    "fd['Sms_opt_out'] = fd.get('Sms_opt_out', False)"
   ]
  },
  {
   "cell_type": "code",
   "execution_count": 37,
   "id": "f0aa29e8-fd88-45a5-ac5c-66b6bb868b7f",
   "metadata": {},
   "outputs": [
    {
     "data": {
      "text/plain": [
       "0      False\n",
       "1      False\n",
       "2      False\n",
       "3      False\n",
       "4      False\n",
       "       ...  \n",
       "516    False\n",
       "517    False\n",
       "518    False\n",
       "519    False\n",
       "520    False\n",
       "Name: Sms_opt_out, Length: 521, dtype: bool"
      ]
     },
     "execution_count": 37,
     "metadata": {},
     "output_type": "execute_result"
    }
   ],
   "source": [
    "fd['Sms_opt_out'] "
   ]
  },
  {
   "cell_type": "code",
   "execution_count": null,
   "id": "44491647-41da-4e6a-842c-1f0962426b1a",
   "metadata": {},
   "outputs": [],
   "source": [
    "## Saving the cleaned dataframe to a new csv file"
   ]
  },
  {
   "cell_type": "code",
   "execution_count": 39,
   "id": "fc07538e-2b01-42af-9d13-0816fd715147",
   "metadata": {},
   "outputs": [],
   "source": [
    "fd.to_csv(\"cleaned_customer_data.csv\", index=False)"
   ]
  },
  {
   "cell_type": "code",
   "execution_count": null,
   "id": "7adcbe2e-2964-4042-92c8-2f5848e5b496",
   "metadata": {},
   "outputs": [],
   "source": []
  },
  {
   "cell_type": "code",
   "execution_count": null,
   "id": "db3ff816-ac74-4e18-b2d7-0a309d6c39c1",
   "metadata": {},
   "outputs": [],
   "source": []
  }
 ],
 "metadata": {
  "kernelspec": {
   "display_name": "Python 3 (ipykernel)",
   "language": "python",
   "name": "python3"
  },
  "language_info": {
   "codemirror_mode": {
    "name": "ipython",
    "version": 3
   },
   "file_extension": ".py",
   "mimetype": "text/x-python",
   "name": "python",
   "nbconvert_exporter": "python",
   "pygments_lexer": "ipython3",
   "version": "3.12.6"
  }
 },
 "nbformat": 4,
 "nbformat_minor": 5
}
